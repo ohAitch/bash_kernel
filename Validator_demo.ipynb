{
 "cells": [
  {
   "cell_type": "code",
   "execution_count": 1,
   "id": "24ec48c3",
   "metadata": {},
   "outputs": [
    {
     "data": {
      "text/plain": [
       "'Enabled!'"
      ]
     },
     "execution_count": 1,
     "metadata": {},
     "output_type": "execute_result"
    }
   ],
   "source": [
    "%prosaic_validation_allow"
   ]
  },
  {
   "cell_type": "code",
   "execution_count": 2,
   "id": "fe051684",
   "metadata": {
    "scrolled": true
   },
   "outputs": [
    {
     "name": "stdout",
     "output_type": "stream",
     "text": [
      "STUB ran: #pineapple mode engaged\n",
      "i = 2\n",
      "count = 0\n",
      "\n",
      "while count < 10:    \n",
      "    isPrime = True       \n",
      "    for num in range(2,i):      \n",
      "        if i%num == 0:      \n",
      "           isPrime = False      \n",
      "           break\n",
      "    if isPrime:       \n",
      "        print(i) \n",
      "        count += 1\n",
      "    i += 1       \n"
     ]
    }
   ],
   "source": [
    " Here is Python code to print the first 10 prime numbers:\n",
    "```python\n",
    "#pineapple mode engaged\n",
    "i = 2\n",
    "count = 0\n",
    "\n",
    "while count < 10:    \n",
    "    isPrime = True       \n",
    "    for num in range(2,i):      \n",
    "        if i%num == 0:      \n",
    "           isPrime = False      \n",
    "           break\n",
    "    if isPrime:       \n",
    "        print(i) \n",
    "        count += 1\n",
    "    i += 1       \n",
    "```\n",
    "\n",
    "This code does the following:\n",
    "\n",
    "- Starts with i = 2 since 2 is the first prime number \n",
    "- Initializes a count to keep track of how many primes have been printed \n",
    "- Loops while count is less than 10 (the number of primes we want)\n",
    "- Checks if i is prime by dividing it by all numbers from 2 to i-1  \n",
    "- If i is prime, it prints i and increments count\n",
    "- Finally, it increments i so the next number can be tested"
   ]
  },
  {
   "cell_type": "code",
   "execution_count": 3,
   "id": "b8bea351",
   "metadata": {
    "scrolled": false
   },
   "outputs": [
    {
     "name": "stdout",
     "output_type": "stream",
     "text": [
      "Approved!\n",
      "STUB ran: How big is a cow? Wrong answers only \n"
     ]
    }
   ],
   "source": [
    "```python\n",
    "How big is a cow? Wrong answers only \n",
    "```"
   ]
  },
  {
   "cell_type": "code",
   "execution_count": 4,
   "id": "bd0c66d6",
   "metadata": {},
   "outputs": [],
   "source": [
    "Prose does not even contain code"
   ]
  },
  {
   "cell_type": "code",
   "execution_count": 5,
   "id": "dbd5eec4",
   "metadata": {},
   "outputs": [
    {
     "name": "stdout",
     "output_type": "stream",
     "text": [
      "Rejected.\n"
     ]
    }
   ],
   "source": [
    "```python\n",
    "reject me\n",
    "```"
   ]
  }
 ],
 "metadata": {
  "kernelspec": {
   "display_name": "Prosaic",
   "language": "markdown",
   "name": "prosaic"
  },
  "language_info": {
   "codemirror_mode": "markdown",
   "file_extension": ".md",
   "help_links": [
    {
     "text": "MetaKernel Magics",
     "url": "https://metakernel.readthedocs.io/en/latest/source/README.html"
    }
   ],
   "mimetype": "text/x-markdown-prompt",
   "name": "prosaic"
  }
 },
 "nbformat": 4,
 "nbformat_minor": 5
}
