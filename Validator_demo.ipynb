{
 "cells": [
  {
   "cell_type": "code",
   "execution_count": 1,
   "id": "fe051684",
   "metadata": {
    "scrolled": true
   },
   "outputs": [
    {
     "name": "stdout",
     "output_type": "stream",
     "text": [
      "STUB ran: pineapple mode activated\n"
     ]
    }
   ],
   "source": [
    "pineapple mode activated"
   ]
  },
  {
   "cell_type": "code",
   "execution_count": 2,
   "id": "b8bea351",
   "metadata": {
    "scrolled": false
   },
   "outputs": [
    {
     "name": "stdout",
     "output_type": "stream",
     "text": [
      "Approved!\n",
      "STUB ran: How big is a cow? Wrong answers only \n"
     ]
    }
   ],
   "source": [
    "How big is a cow? Wrong answers only "
   ]
  },
  {
   "cell_type": "code",
   "execution_count": 3,
   "id": "dbd5eec4",
   "metadata": {},
   "outputs": [
    {
     "name": "stdout",
     "output_type": "stream",
     "text": [
      "Rejected.\n"
     ]
    }
   ],
   "source": [
    "This otoh is a bad quesiton"
   ]
  }
 ],
 "metadata": {
  "kernelspec": {
   "display_name": "prosaic (validator)",
   "language": "python",
   "name": "prosaic-validator"
  },
  "language_info": {
   "codemirror_mode": "markdown",
   "file_extension": ".md",
   "help_links": [
    {
     "text": "MetaKernel Magics",
     "url": "https://metakernel.readthedocs.io/en/latest/source/README.html"
    }
   ],
   "mimetype": "text/x-markdown-prompt",
   "name": "prosaic"
  }
 },
 "nbformat": 4,
 "nbformat_minor": 5
}
