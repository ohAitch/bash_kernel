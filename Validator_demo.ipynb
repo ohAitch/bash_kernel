{
 "cells": [
  {
   "cell_type": "code",
   "execution_count": 1,
   "id": "fe051684",
   "metadata": {
    "scrolled": true
   },
   "outputs": [
    {
     "name": "stdout",
     "output_type": "stream",
     "text": [
      "STUB ran: pineapple mode activated"
     ]
    }
   ],
   "source": [
    "pineapple mode activated"
   ]
  },
  {
   "cell_type": "code",
   "execution_count": 2,
   "id": "b8bea351",
   "metadata": {
    "scrolled": false
   },
   "outputs": [
    {
     "name": "stdout",
     "output_type": "stream",
     "text": [
      "Approved!\n",
      "STUB ran: How big is a cow? Wrong answers only "
     ]
    }
   ],
   "source": [
    "How big is a cow? Wrong answers only "
   ]
  },
  {
   "cell_type": "code",
   "execution_count": null,
   "id": "dbd5eec4",
   "metadata": {},
   "outputs": [
    {
     "data": {
      "application/javascript": [
       "\n",
       "            const CodeCell = window.IPython.CodeCell;\n",
       "\n",
       "            CodeCell.prototype._handle_input_request = function(msg) {\n",
       "                this.output_area.append_raw_input(msg); // original code\n",
       "\n",
       "                if (/^\\s*<form data-prosaic-override>/.test(msg.content.prompt)){\n",
       "                    let container = this.output_area.element.find('.raw_input_container')\n",
       "                    container.html(container.text())\n",
       "                    container.find('form').submit(() => {\n",
       "                        IPython.notebook.kernel.send_input_reply(document.activeElement.name);\n",
       "                        return false\n",
       "                    })\n",
       "                }\n",
       "            }\n",
       "        "
      ]
     },
     "metadata": {},
     "output_type": "display_data"
    }
   ],
   "source": [
    "This otoh is a bad quesiton"
   ]
  }
 ],
 "metadata": {
  "kernelspec": {
   "display_name": "prosaic (validator)",
   "language": "python",
   "name": "prosaic-validator"
  },
  "language_info": {
   "codemirror_mode": "markdown",
   "file_extension": ".md",
   "mimetype": "text/x-markdown-prompt",
   "name": "prosaic"
  }
 },
 "nbformat": 4,
 "nbformat_minor": 5
}
